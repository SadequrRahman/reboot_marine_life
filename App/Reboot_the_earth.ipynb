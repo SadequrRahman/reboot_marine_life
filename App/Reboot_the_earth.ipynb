{
 "cells": [
  {
   "cell_type": "code",
   "execution_count": 1,
   "metadata": {},
   "outputs": [],
   "source": [
    "import pandas as pd\n",
    "from datetime import datetime\n",
    "import numpy as np\n",
    "date_rng = pd.date_range(start='1/1/2019', end='31/12/2019', freq='D')\n",
    "np.random.seed(1)"
   ]
  },
  {
   "cell_type": "code",
   "execution_count": 2,
   "metadata": {},
   "outputs": [],
   "source": [
    "df = pd.DataFrame(date_rng, columns=['date'])\n",
    "No_of_ypos=150\n",
    "No_of_xpos=5\n",
    "days_of_travel=30 # Assuming the days of travel to be 30 and ship will cross 1 ypos in 1 day"
   ]
  },
  {
   "cell_type": "code",
   "execution_count": 3,
   "metadata": {},
   "outputs": [],
   "source": [
    "A0=np.random.randint(100, size=(len(date_rng), No_of_ypos*No_of_xpos)) #Sensor data from nodes\n",
    "#B=np.ones_like(A) \n",
    "B=np.random.randint(2,size=(len(date_rng), No_of_ypos*No_of_xpos)) # datasets from fisheries about fish reproduction region\n",
    "#Creating a rejection criterion\n",
    "for i in range(B.shape[0]):\n",
    "    for j in range(B.shape[1]):\n",
    "        if B[i,j]==0:\n",
    "            B[i,j]=10\n",
    "A=A0*B"
   ]
  },
  {
   "cell_type": "code",
   "execution_count": 4,
   "metadata": {},
   "outputs": [],
   "source": [
    "x=pd.DataFrame(A)\n",
    "y=pd.DataFrame(A0)"
   ]
  },
  {
   "cell_type": "code",
   "execution_count": 5,
   "metadata": {},
   "outputs": [],
   "source": [
    "data=pd.concat([df, x],axis=1)\n",
    "data_wo=pd.concat([df, y],axis=1)"
   ]
  },
  {
   "cell_type": "code",
   "execution_count": 6,
   "metadata": {},
   "outputs": [
    {
     "data": {
      "text/html": [
       "<div>\n",
       "<style scoped>\n",
       "    .dataframe tbody tr th:only-of-type {\n",
       "        vertical-align: middle;\n",
       "    }\n",
       "\n",
       "    .dataframe tbody tr th {\n",
       "        vertical-align: top;\n",
       "    }\n",
       "\n",
       "    .dataframe thead th {\n",
       "        text-align: right;\n",
       "    }\n",
       "</style>\n",
       "<table border=\"1\" class=\"dataframe\">\n",
       "  <thead>\n",
       "    <tr style=\"text-align: right;\">\n",
       "      <th></th>\n",
       "      <th>date</th>\n",
       "      <th>0</th>\n",
       "      <th>1</th>\n",
       "      <th>2</th>\n",
       "      <th>3</th>\n",
       "      <th>4</th>\n",
       "      <th>5</th>\n",
       "      <th>6</th>\n",
       "      <th>7</th>\n",
       "      <th>8</th>\n",
       "      <th>...</th>\n",
       "      <th>740</th>\n",
       "      <th>741</th>\n",
       "      <th>742</th>\n",
       "      <th>743</th>\n",
       "      <th>744</th>\n",
       "      <th>745</th>\n",
       "      <th>746</th>\n",
       "      <th>747</th>\n",
       "      <th>748</th>\n",
       "      <th>749</th>\n",
       "    </tr>\n",
       "  </thead>\n",
       "  <tbody>\n",
       "    <tr>\n",
       "      <th>0</th>\n",
       "      <td>2019-01-01</td>\n",
       "      <td>37</td>\n",
       "      <td>12</td>\n",
       "      <td>720</td>\n",
       "      <td>90</td>\n",
       "      <td>75</td>\n",
       "      <td>50</td>\n",
       "      <td>790</td>\n",
       "      <td>64</td>\n",
       "      <td>160</td>\n",
       "      <td>...</td>\n",
       "      <td>96</td>\n",
       "      <td>96</td>\n",
       "      <td>41</td>\n",
       "      <td>240</td>\n",
       "      <td>21</td>\n",
       "      <td>270</td>\n",
       "      <td>46</td>\n",
       "      <td>35</td>\n",
       "      <td>62</td>\n",
       "      <td>68</td>\n",
       "    </tr>\n",
       "    <tr>\n",
       "      <th>1</th>\n",
       "      <td>2019-01-02</td>\n",
       "      <td>620</td>\n",
       "      <td>320</td>\n",
       "      <td>45</td>\n",
       "      <td>880</td>\n",
       "      <td>42</td>\n",
       "      <td>570</td>\n",
       "      <td>250</td>\n",
       "      <td>320</td>\n",
       "      <td>33</td>\n",
       "      <td>...</td>\n",
       "      <td>84</td>\n",
       "      <td>750</td>\n",
       "      <td>76</td>\n",
       "      <td>90</td>\n",
       "      <td>180</td>\n",
       "      <td>62</td>\n",
       "      <td>45</td>\n",
       "      <td>650</td>\n",
       "      <td>520</td>\n",
       "      <td>280</td>\n",
       "    </tr>\n",
       "    <tr>\n",
       "      <th>2</th>\n",
       "      <td>2019-01-03</td>\n",
       "      <td>87</td>\n",
       "      <td>380</td>\n",
       "      <td>20</td>\n",
       "      <td>97</td>\n",
       "      <td>510</td>\n",
       "      <td>590</td>\n",
       "      <td>94</td>\n",
       "      <td>64</td>\n",
       "      <td>14</td>\n",
       "      <td>...</td>\n",
       "      <td>760</td>\n",
       "      <td>870</td>\n",
       "      <td>610</td>\n",
       "      <td>2</td>\n",
       "      <td>22</td>\n",
       "      <td>820</td>\n",
       "      <td>930</td>\n",
       "      <td>980</td>\n",
       "      <td>470</td>\n",
       "      <td>29</td>\n",
       "    </tr>\n",
       "    <tr>\n",
       "      <th>3</th>\n",
       "      <td>2019-01-04</td>\n",
       "      <td>950</td>\n",
       "      <td>98</td>\n",
       "      <td>800</td>\n",
       "      <td>1</td>\n",
       "      <td>750</td>\n",
       "      <td>1</td>\n",
       "      <td>52</td>\n",
       "      <td>92</td>\n",
       "      <td>640</td>\n",
       "      <td>...</td>\n",
       "      <td>42</td>\n",
       "      <td>67</td>\n",
       "      <td>98</td>\n",
       "      <td>13</td>\n",
       "      <td>25</td>\n",
       "      <td>38</td>\n",
       "      <td>75</td>\n",
       "      <td>50</td>\n",
       "      <td>92</td>\n",
       "      <td>220</td>\n",
       "    </tr>\n",
       "    <tr>\n",
       "      <th>4</th>\n",
       "      <td>2019-01-05</td>\n",
       "      <td>39</td>\n",
       "      <td>73</td>\n",
       "      <td>140</td>\n",
       "      <td>47</td>\n",
       "      <td>710</td>\n",
       "      <td>10</td>\n",
       "      <td>330</td>\n",
       "      <td>700</td>\n",
       "      <td>60</td>\n",
       "      <td>...</td>\n",
       "      <td>390</td>\n",
       "      <td>14</td>\n",
       "      <td>220</td>\n",
       "      <td>26</td>\n",
       "      <td>150</td>\n",
       "      <td>81</td>\n",
       "      <td>76</td>\n",
       "      <td>920</td>\n",
       "      <td>26</td>\n",
       "      <td>490</td>\n",
       "    </tr>\n",
       "  </tbody>\n",
       "</table>\n",
       "<p>5 rows × 751 columns</p>\n",
       "</div>"
      ],
      "text/plain": [
       "        date    0    1    2    3    4    5    6    7    8 ...   740  741  742  \\\n",
       "0 2019-01-01   37   12  720   90   75   50  790   64  160 ...    96   96   41   \n",
       "1 2019-01-02  620  320   45  880   42  570  250  320   33 ...    84  750   76   \n",
       "2 2019-01-03   87  380   20   97  510  590   94   64   14 ...   760  870  610   \n",
       "3 2019-01-04  950   98  800    1  750    1   52   92  640 ...    42   67   98   \n",
       "4 2019-01-05   39   73  140   47  710   10  330  700   60 ...   390   14  220   \n",
       "\n",
       "   743  744  745  746  747  748  749  \n",
       "0  240   21  270   46   35   62   68  \n",
       "1   90  180   62   45  650  520  280  \n",
       "2    2   22  820  930  980  470   29  \n",
       "3   13   25   38   75   50   92  220  \n",
       "4   26  150   81   76  920   26  490  \n",
       "\n",
       "[5 rows x 751 columns]"
      ]
     },
     "execution_count": 6,
     "metadata": {},
     "output_type": "execute_result"
    }
   ],
   "source": [
    "data.head()"
   ]
  },
  {
   "cell_type": "code",
   "execution_count": 7,
   "metadata": {
    "scrolled": true
   },
   "outputs": [],
   "source": [
    "#finding the optimum path\n",
    "pos=np.zeros(days_of_travel)\n",
    "col=1;\n",
    "sol=500;\n",
    "for i in range(days_of_travel):\n",
    "    for j in range(No_of_xpos):\n",
    "        y=data.iloc[i,col+j]\n",
    "        if y<sol:\n",
    "            sol=y\n",
    "            pos[i]=col+j\n",
    "        else:\n",
    "            sol=sol\n",
    "    col=col+No_of_xpos\n",
    "    sol=500\n",
    "    \n"
   ]
  },
  {
   "cell_type": "code",
   "execution_count": 8,
   "metadata": {},
   "outputs": [
    {
     "data": {
      "text/plain": [
       "array([  2.,   9.,  13.,  17.,  25.,  30.,  33.,  40.,  43.,  48.,  55.,\n",
       "        56.,  65.,  68.,  74.,  80.,  84.,  89.,  91.,  99., 104., 107.,\n",
       "       111., 118., 125., 129., 135., 139., 141., 146.])"
      ]
     },
     "execution_count": 8,
     "metadata": {},
     "output_type": "execute_result"
    }
   ],
   "source": [
    "pos"
   ]
  },
  {
   "cell_type": "code",
   "execution_count": 10,
   "metadata": {},
   "outputs": [],
   "source": [
    "#data visualization\n",
    "#creating the relevant matrix data\n",
    "col=1;\n",
    "picture0=np.zeros((days_of_travel,No_of_xpos))\n",
    "for i in range(days_of_travel):\n",
    "    for j in range(No_of_xpos):\n",
    "        picture0[i,j]=data.iloc[i,col+j]\n",
    "    col=col+No_of_xpos\n",
    "#creating the relevant matrix data_wo\n",
    "col=1;\n",
    "picture1=np.zeros((days_of_travel,No_of_xpos))\n",
    "for i in range(days_of_travel):\n",
    "    for j in range(No_of_xpos):\n",
    "        picture1[i,j]=data_wo.iloc[i,col+j]\n",
    "    col=col+No_of_xpos"
   ]
  },
  {
   "cell_type": "code",
   "execution_count": 12,
   "metadata": {},
   "outputs": [
    {
     "data": {
      "text/plain": [
       "array([[ 37.,  12., 720.,  90.,  75.],\n",
       "       [570., 250., 320.,  33.,  60.],\n",
       "       [ 52., 440.,  16., 640.,  30.],\n",
       "       [ 49.,  14.,  73., 210., 320.],\n",
       "       [580., 120., 750.,  53.,  24.],\n",
       "       [ 49., 880., 450., 860.,  30.],\n",
       "       [ 42.,  62.,  23., 160.,  88.],\n",
       "       [230.,  19., 300.,  40.,   7.],\n",
       "       [ 79., 360.,   0.,  12.,  23.],\n",
       "       [470., 460.,   0.,  52.,  97.],\n",
       "       [ 67.,  43., 320., 720.,  33.],\n",
       "       [ 79., 730.,  93., 380., 380.],\n",
       "       [980.,  58.,  12.,  16.,   2.],\n",
       "       [ 42.,  54.,  40., 960.,  56.],\n",
       "       [ 25., 670.,  15.,   8., 920.],\n",
       "       [540., 320., 670.,  41.,  37.],\n",
       "       [670., 110., 430.,  12.,  63.],\n",
       "       [ 49.,  50., 840.,  46., 730.],\n",
       "       [ 23.,  67., 270., 230., 370.],\n",
       "       [650., 510.,  71.,  30., 590.],\n",
       "       [ 21.,  17.,  25.,  10.,  28.],\n",
       "       [210.,  19.,  95.,  98.,  89.],\n",
       "       [ 45.,  90., 420.,  71., 200.],\n",
       "       [450., 520.,  95., 280., 360.],\n",
       "       [ 46., 360., 800., 290.,   4.],\n",
       "       [740., 690.,  44.,   0., 200.],\n",
       "       [ 74., 600., 370., 330.,  50.],\n",
       "       [490.,  90.,  56.,  22., 330.],\n",
       "       [ 10., 770.,  93.,  21.,  92.],\n",
       "       [  8.,  32.,  28., 910., 810.]])"
      ]
     },
     "execution_count": 12,
     "metadata": {},
     "output_type": "execute_result"
    }
   ],
   "source": [
    "picture0"
   ]
  },
  {
   "cell_type": "code",
   "execution_count": 15,
   "metadata": {},
   "outputs": [
    {
     "data": {
      "image/png": "[encoded data removed]",
      "text/plain": [
       "<Figure size 2160x2160 with 2 Axes>"
      ]
     },
     "metadata": {
      "needs_background": "light"
     },
     "output_type": "display_data"
    }
   ],
   "source": [
    "import matplotlib.pyplot as plt\n",
    "fig=plt.figure(figsize=(30,30))\n",
    "plt.imshow(picture1)\n",
    "plt.colorbar()\n",
    "plt.show()"
   ]
  },
  {
   "cell_type": "code",
   "execution_count": 14,
   "metadata": {},
   "outputs": [
    {
     "data": {
      "image/png": "[encoded data removed]",
      "text/plain": [
       "<Figure size 2160x2160 with 2 Axes>"
      ]
     },
     "metadata": {
      "needs_background": "light"
     },
     "output_type": "display_data"
    }
   ],
   "source": [
    "fig=plt.figure(figsize=(30,30))\n",
    "plt.imshow(picture0)\n",
    "plt.colorbar()\n",
    "plt.show()"
   ]
  }
 ],
 "metadata": {
  "kernelspec": {
   "display_name": "Python 3.6 (tensorflow)",
   "language": "python",
   "name": "tensorflow"
  },
  "language_info": {
   "codemirror_mode": {
    "name": "ipython",
    "version": 3
   },
   "file_extension": ".py",
   "mimetype": "text/x-python",
   "name": "python",
   "nbconvert_exporter": "python",
   "pygments_lexer": "ipython3",
   "version": "3.6.7"
  }
 },
 "nbformat": 4,
 "nbformat_minor": 2
}
